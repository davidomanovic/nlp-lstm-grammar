{
 "cells": [
  {
   "cell_type": "code",
   "execution_count": 16,
   "metadata": {},
   "outputs": [
    {
     "name": "stdout",
     "output_type": "stream",
     "text": [
      "Sentence: She goes to teh park.\n",
      "Prediction: ['correct', 'correct', 'correct', 'incorrect', 'correct']\n",
      "\n",
      "Sentence: The dog barks loudly outsied.\n",
      "Prediction: ['correct', 'correct', 'correct', 'correct', 'incorrect']\n",
      "\n",
      "Sentence: I am reads a book.\n",
      "Prediction: ['correct', 'correct', 'incorrect', 'correct', 'correct']\n",
      "\n",
      "Sentence: They plays soccer each weekend.\n",
      "Prediction: ['correct', 'incorrect', 'correct', 'incorrect', 'correct']\n",
      "\n"
     ]
    }
   ],
   "source": [
    "import sys\n",
    "import os\n",
    "# Set workspace_dir to the root of the project\n",
    "workspace_dir = os.path.abspath(os.path.join(os.getcwd()))\n",
    "sentences_file = os.path.join(workspace_dir, 'data', 'test_sentences.txt')\n",
    "labels_file = os.path.join(workspace_dir, 'data', 'labels.txt')\n",
    "models_path = os.path.join(workspace_dir, 'models', 'grammar_checker_model.pth')\n",
    "\n",
    "# Try importing from the src package\n",
    "try:\n",
    "    from src.grammar_checker import GrammarCheckerLSTM, load_model_and_vocab, preprocess_sentence, predict\n",
    "except ModuleNotFoundError as e:\n",
    "    print(f\"Error: {e}\")\n",
    "    sys.exit(1)\n",
    "\n",
    "# Function to load test sentences from the file\n",
    "def load_test_sentences(file_path=sentences_file):\n",
    "    sentences = []\n",
    "    with open(file_path, 'r') as file:\n",
    "        for line in file:\n",
    "            sentences.append(line.strip())  # Strip any leading/trailing whitespace\n",
    "    return sentences\n",
    "\n",
    "def load_and_test_model(model_path=models_path):\n",
    "    model, word_to_idx = load_model_and_vocab(model_path) # Load the model and the vocabulary\n",
    "    idx_to_label = {0: 'incorrect', 1: 'correct'} # Define idx_to_label for prediction outpuT\n",
    "    test_sentences = load_test_sentences(sentences_file) # Load test sentences from the file\n",
    "\n",
    "    # Test the model with the sentences\n",
    "    for sentence in test_sentences:\n",
    "        print(f\"Sentence: {sentence}\")\n",
    "        prediction = predict(model, sentence, word_to_idx, idx_to_label)\n",
    "        print(f\"Prediction: {prediction}\")\n",
    "        print()\n",
    "\n",
    "if __name__ == \"__main__\":\n",
    "    load_and_test_model(models_path)\n"
   ]
  }
 ],
 "metadata": {
  "kernelspec": {
   "display_name": "Python 3",
   "language": "python",
   "name": "python3"
  },
  "language_info": {
   "codemirror_mode": {
    "name": "ipython",
    "version": 3
   },
   "file_extension": ".py",
   "mimetype": "text/x-python",
   "name": "python",
   "nbconvert_exporter": "python",
   "pygments_lexer": "ipython3",
   "version": "3.12.7"
  }
 },
 "nbformat": 4,
 "nbformat_minor": 2
}
